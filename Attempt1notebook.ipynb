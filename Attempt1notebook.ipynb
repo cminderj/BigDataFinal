{
 "cells": [
  {
   "cell_type": "code",
   "execution_count": null,
   "metadata": {},
   "outputs": [],
   "source": [
    "### Uses 20 day and 50 day moving average as a momentum strategy. If the 50 day is larger than the 20 day M.A. then we buy (the 20 day MA will increase), and vice versa. \n",
    "\n",
    "import quantopian.algorithm as algo\n",
    "from quantopian.pipeline import Pipeline\n",
    "from quantopian.algorithm import attach_pipeline, pipeline_output\n",
    "from quantopian.pipeline.data.builtin import USEquityPricing\n",
    "from quantopian.pipeline.filters import QTradableStocksUS\n",
    "from quantopian.pipeline.data.psychsignal import stocktwits\n",
    "from quantopian.pipeline.factors import SimpleMovingAverage\n",
    "import quantopian.optimize as opt\n",
    "from quantopian.pipeline.experimental import risk_loading_pipeline\n",
    "\n",
    "#initializer that gets the data about SPY\n",
    "def initialize(context):\n",
    "    context.spy = symbol('SPY')\n",
    "    #makes it so only long buys and sell are possible\n",
    "    set_long_only()\n",
    "    \n",
    "#handles the data, this is what makes the buys and the sells\n",
    "def handle_data(context, data):\n",
    "   #history of the SPY, price from 50 days every minute\n",
    "    hist = data.history(context.spy, fields=\"price\", bar_count=50, frequency=\"1m\")\n",
    "    sma_50 = hist.mean()              #fifty day moving average\n",
    "    sma_20 = hist[-20:].mean()     #20 day moving average\n",
    "\n",
    "    #sees what orders we already have\n",
    "    open_orders = get_open_orders()\n",
    "    \n",
    "   # if 50 MA is greater than 20 MA, and we do not have those orders, buy all\n",
    "    if sma_50 > sma_20:\n",
    "        if context.spy not in open_orders:\n",
    "            order_target_percent(context.spy, 1.0)\n",
    "    \n",
    "  #else, get rid of it \n",
    "    elif sma_20 > sma_50:\n",
    "        if context.spy in open_orders:\n",
    "            order_target_percent(context.spy, 0.0)   \n",
    "\n",
    "##overall this code wasn’t great, it basically followed the benchmark. \n",
    "##additionally, couldn’t figure out how to use history correctly to get the moving average to start #right away and not after 50 days."
   ]
  }
 ],
 "metadata": {
  "kernelspec": {
   "display_name": "Python 3",
   "language": "python",
   "name": "python3"
  },
  "language_info": {
   "codemirror_mode": {
    "name": "ipython",
    "version": 3
   },
   "file_extension": ".py",
   "mimetype": "text/x-python",
   "name": "python",
   "nbconvert_exporter": "python",
   "pygments_lexer": "ipython3",
   "version": "3.7.1"
  }
 },
 "nbformat": 4,
 "nbformat_minor": 2
}
