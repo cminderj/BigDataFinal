{
 "cells": [
  {
   "cell_type": "code",
   "execution_count": null,
   "metadata": {},
   "outputs": [],
   "source": [
    "####This is another simple strategy that was used on the SPY data. This strategy is set up to buy if the closing price is 5% greater than the 50 day moving average. Then it will sell if the closing price is not 5% greater than the 50 day moving average. \n",
    "\n",
    "########## Code for Strategy #2\n",
    "\n",
    "#Gets the necessary imports\n",
    "import quantopian.algorithm as algo\n",
    "from quantopian.pipeline import Pipeline\n",
    "from quantopian.algorithm import attach_pipeline, pipeline_output\n",
    "from quantopian.pipeline.data.builtin import USEquityPricing\n",
    "from quantopian.pipeline.filters import QTradableStocksUS\n",
    "from quantopian.pipeline.data.psychsignal import stocktwits\n",
    "from quantopian.pipeline.factors import SimpleMovingAverage\n",
    "import quantopian.optimize as opt\n",
    "from quantopian.pipeline.experimental import risk_loading_pipeline\n",
    "\n",
    "#initializes the stock we want to handle, SPY \n",
    "def initialize(context):\n",
    "    ##gets the information for SPY\n",
    "    context.security = symbol('SPY')\n",
    "\n",
    "        \n",
    "##Handles the data by how we wish to carry out the transaction according to the price \n",
    "#Buy if the closing price is 5% greater than the 50 day moving average\n",
    "#Sell if the closing price is not 5% greater than the 50 day moving average\n",
    "def handle_data(context,data):\n",
    "    #way to define a security in quantopian\n",
    "    security = context.security\n",
    "    #closing price for security from the past 50 days\n",
    "    close_data = data.history(security, fields=\"price\", bar_count=50,frequency=\"1d\")\n",
    "    \n",
    "    #gets the moving average closing price of the past 50 days\n",
    "    SMA50 = close_data.mean()\n",
    "    #gets the latest closing price \n",
    "    current_price = close_data[-1]\n",
    "    #gets the cash  currently held in your portfolio\n",
    "    cash = context.portfolio.cash\n",
    "\n",
    "    #Buys if the latest closing price is 5% greater than the average of the past 50 days\n",
    "    if current_price > 1.05 * SMA50:\n",
    "        #uses all the current cash in the portfolio to buy this stock\n",
    "        order_value(security, cash)\n",
    "        \n",
    "        #records this buying transaction\n",
    "        log.info(\"Buying SPY\")\n",
    "        \n",
    "    #Sells all if the latest closing price is less than the average of the past 50 days\n",
    "    elif current_price < SMA50:\n",
    "        #sells the whole security\n",
    "        order_target(security, 0)\n",
    "       \n",
    "        #records this selling transaction\n",
    "        log.info(\"Selling SPY\")\n",
    "    \n",
    "    record(stock_price=current_price)\n",
    "    \n",
    "##This strategy had low positive returns, and was not as high as the benchmark. It followed the trend of the benchmark, but did not mimic it."
   ]
  }
 ],
 "metadata": {
  "kernelspec": {
   "display_name": "Python 3",
   "language": "python",
   "name": "python3"
  },
  "language_info": {
   "codemirror_mode": {
    "name": "ipython",
    "version": 3
   },
   "file_extension": ".py",
   "mimetype": "text/x-python",
   "name": "python",
   "nbconvert_exporter": "python",
   "pygments_lexer": "ipython3",
   "version": "3.7.1"
  }
 },
 "nbformat": 4,
 "nbformat_minor": 2
}
